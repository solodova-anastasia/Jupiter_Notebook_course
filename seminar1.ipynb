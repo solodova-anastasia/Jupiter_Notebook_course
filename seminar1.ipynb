{
 "cells": [
  {
   "cell_type": "code",
   "execution_count": 2,
   "metadata": {},
   "outputs": [],
   "source": [
    "import random"
   ]
  },
  {
   "attachments": {},
   "cell_type": "markdown",
   "metadata": {},
   "source": [
    "# Первый урок"
   ]
  },
  {
   "cell_type": "code",
   "execution_count": 3,
   "metadata": {},
   "outputs": [],
   "source": [
    "random.seed(12345)"
   ]
  },
  {
   "attachments": {},
   "cell_type": "markdown",
   "metadata": {},
   "source": [
    "** какие-то пояснения **"
   ]
  },
  {
   "cell_type": "code",
   "execution_count": 8,
   "metadata": {},
   "outputs": [
    {
     "data": {
      "text/plain": [
       "845"
      ]
     },
     "execution_count": 8,
     "metadata": {},
     "output_type": "execute_result"
    }
   ],
   "source": [
    "x = random.randint(0,1000)\n",
    "x"
   ]
  },
  {
   "attachments": {},
   "cell_type": "markdown",
   "metadata": {},
   "source": [
    "## Задача 1\n",
    "надо объединить два словаря в один"
   ]
  },
  {
   "cell_type": "code",
   "execution_count": 10,
   "metadata": {},
   "outputs": [],
   "source": [
    "dict1 = {'One': 1, 'Two': 2, 'Three': 3}\n",
    "dict2 = {'Four': 4, 'Five': 5, 'Six': 6}"
   ]
  },
  {
   "cell_type": "code",
   "execution_count": 11,
   "metadata": {},
   "outputs": [
    {
     "data": {
      "text/plain": [
       "{'One': 1, 'Two': 2, 'Three': 3, 'Four': 4, 'Five': 5, 'Six': 6}"
      ]
     },
     "execution_count": 11,
     "metadata": {},
     "output_type": "execute_result"
    }
   ],
   "source": [
    "dict1.update(dict2)\n",
    "dict1"
   ]
  },
  {
   "attachments": {},
   "cell_type": "markdown",
   "metadata": {},
   "source": [
    "1.2 Напишите функцию, которая на вход принимает два словаря и возвращает один объединенный словарь.\n",
    "Используйте аннотирование типов\n"
   ]
  },
  {
   "cell_type": "code",
   "execution_count": 13,
   "metadata": {},
   "outputs": [],
   "source": [
    "def create_all(d1: dict, d2: dict) -> dict:\n",
    "    result = d1\n",
    "    result.update(d2)\n",
    "    return result"
   ]
  },
  {
   "cell_type": "code",
   "execution_count": 14,
   "metadata": {},
   "outputs": [
    {
     "data": {
      "text/plain": [
       "{'One': 1, 'Two': 2, 'Three': 3, 'Four': 4, 'Five': 5, 'Six': 6}"
      ]
     },
     "execution_count": 14,
     "metadata": {},
     "output_type": "execute_result"
    }
   ],
   "source": [
    "create_all(dict1, dict2)"
   ]
  },
  {
   "attachments": {},
   "cell_type": "markdown",
   "metadata": {},
   "source": [
    "## Задача 2\n",
    "Напишите функцию, которая из двух списков, делает один словарь, где элементы из первого списка - ключи, а элементы из второго списка - значения\n",
    "Используйте аннотирование типов\n",
    "2.1 Используя цикл for\n",
    "2.2 Используя dict comprehensions"
   ]
  },
  {
   "cell_type": "code",
   "execution_count": 15,
   "metadata": {},
   "outputs": [],
   "source": [
    "keys = [\"one\",\"two\",\"three\"]\n",
    "values = [1, 2, 3]"
   ]
  },
  {
   "cell_type": "code",
   "execution_count": 16,
   "metadata": {},
   "outputs": [],
   "source": [
    "def sp_plus(sp1: list, sp2: list) -> dict:\n",
    "    result = {}\n",
    "    for i in range(len(sp1)):\n",
    "        result[sp1[i]] = sp2[i]\n",
    "    return result"
   ]
  },
  {
   "cell_type": "code",
   "execution_count": 17,
   "metadata": {},
   "outputs": [
    {
     "data": {
      "text/plain": [
       "{'one': 1, 'two': 2, 'three': 3}"
      ]
     },
     "execution_count": 17,
     "metadata": {},
     "output_type": "execute_result"
    }
   ],
   "source": [
    "sp_plus(keys, values)"
   ]
  },
  {
   "cell_type": "code",
   "execution_count": 18,
   "metadata": {},
   "outputs": [
    {
     "data": {
      "text/plain": [
       "{'one': 1, 'two': 2, 'three': 3}"
      ]
     },
     "execution_count": 18,
     "metadata": {},
     "output_type": "execute_result"
    }
   ],
   "source": [
    "{keys[i]: values[i] for i in range(len(keys))}"
   ]
  },
  {
   "attachments": {},
   "cell_type": "markdown",
   "metadata": {},
   "source": [
    "## Задача 3\n",
    "\n",
    "Извлеките только два ключа name и age из представленного словаря\n",
    "3.1 Напишите функцию с циклом for\n",
    "Функция на вход принимает:исходный словарь; ключи, которые нужно извлечь (аргумент по умолчанию)\n",
    "На выходе словарь с нужными ключами\n",
    "Используйте аннотирование типов\n",
    "3.2 Используя dict comprehensions"
   ]
  },
  {
   "cell_type": "code",
   "execution_count": 19,
   "metadata": {},
   "outputs": [],
   "source": [
    "client_dict = {\n",
    "\"name\": \"John\",\n",
    "\"age\": 25,\n",
    "\"salary\": 5000,\n",
    "\"city\": \"Moscow\"\n",
    "}"
   ]
  },
  {
   "cell_type": "code",
   "execution_count": 20,
   "metadata": {},
   "outputs": [],
   "source": [
    "def get_values(d: dict, *args) -> dict:\n",
    "    result = {}\n",
    "    for arg in args:\n",
    "        if arg in d:\n",
    "         result[arg] = d[arg]\n",
    "    return result"
   ]
  },
  {
   "cell_type": "code",
   "execution_count": 21,
   "metadata": {},
   "outputs": [
    {
     "data": {
      "text/plain": [
       "{'name': 'John', 'age': 25}"
      ]
     },
     "execution_count": 21,
     "metadata": {},
     "output_type": "execute_result"
    }
   ],
   "source": [
    "get_values(client_dict,\"name\",\"age\")"
   ]
  },
  {
   "cell_type": "code",
   "execution_count": 23,
   "metadata": {},
   "outputs": [
    {
     "data": {
      "text/plain": [
       "{}"
      ]
     },
     "execution_count": 23,
     "metadata": {},
     "output_type": "execute_result"
    }
   ],
   "source": [
    "get_values(client_dict)"
   ]
  },
  {
   "cell_type": "code",
   "execution_count": 24,
   "metadata": {},
   "outputs": [
    {
     "data": {
      "text/plain": [
       "{'name': 'John'}"
      ]
     },
     "execution_count": 24,
     "metadata": {},
     "output_type": "execute_result"
    }
   ],
   "source": [
    "get_values(client_dict,\"name\",\"surname\")"
   ]
  },
  {
   "cell_type": "code",
   "execution_count": 25,
   "metadata": {},
   "outputs": [
    {
     "data": {
      "text/plain": [
       "{'name': 'John'}"
      ]
     },
     "execution_count": 25,
     "metadata": {},
     "output_type": "execute_result"
    }
   ],
   "source": [
    "keys = [\"name\", \"surname\"]\n",
    "{i: client_dict[i] for i in keys if i in client_dict}"
   ]
  },
  {
   "attachments": {},
   "cell_type": "markdown",
   "metadata": {},
   "source": [
    "## Задача 4\n",
    "4.1 Сгенерируйте случайные целые числа от 0 до 100 в количестве 5 штук с помощью модуля random\n",
    "Зафиксируйте псевдогенерацию, чтобы сгенерированные значения всегда были одинаковые\n",
    "Используйте list comprehensions"
   ]
  },
  {
   "cell_type": "code",
   "execution_count": 26,
   "metadata": {},
   "outputs": [],
   "source": [
    "random.seed(123)"
   ]
  },
  {
   "cell_type": "code",
   "execution_count": 27,
   "metadata": {},
   "outputs": [
    {
     "data": {
      "text/plain": [
       "[6, 34, 11, 98, 52]"
      ]
     },
     "execution_count": 27,
     "metadata": {},
     "output_type": "execute_result"
    }
   ],
   "source": [
    "[random.randint(0,100) for _ in range(5)]"
   ]
  },
  {
   "attachments": {},
   "cell_type": "markdown",
   "metadata": {},
   "source": [
    "## Задача 5\n",
    "5.1 Найдите картинку в интернете и прикрепите её в ячейку с текстом\n",
    "5.2 Создайте следующую таблицу в ячейке с текстом"
   ]
  },
  {
   "attachments": {},
   "cell_type": "markdown",
   "metadata": {},
   "source": [
    "![LakeOshkol](LakeOshkol.jpg)"
   ]
  },
  {
   "attachments": {},
   "cell_type": "markdown",
   "metadata": {},
   "source": [
    "## Задача 6\n",
    "Напишите функцию, которая может принимать любое количество трат пользователя и считать сумму и среднее.\n",
    "На вход поступают целочисленные значения в любом количестве\n",
    "На выходе словарь с ключами суммы трат и средней траты"
   ]
  },
  {
   "cell_type": "code",
   "execution_count": 32,
   "metadata": {},
   "outputs": [],
   "source": [
    "def stats(*args):\n",
    "    result = {}\n",
    "    summa = 0\n",
    "    avg = 0\n",
    "    summa = sum(args)\n",
    "    if args:\n",
    "        avg = summa / len(args)\n",
    "    result[\"Общая сумма\"] = summa\n",
    "    result[\"Средняя сумма покупки\"] = avg\n",
    "    result[\"Количество покупок\"] = len(args)\n",
    "    return result"
   ]
  },
  {
   "cell_type": "code",
   "execution_count": 33,
   "metadata": {},
   "outputs": [
    {
     "data": {
      "text/plain": [
       "{'Общая сумма': 3558, 'Средняя сумма покупки': 711.6, 'Количество покупок': 5}"
      ]
     },
     "execution_count": 33,
     "metadata": {},
     "output_type": "execute_result"
    }
   ],
   "source": [
    "stats(15,100,2000,999,444)"
   ]
  },
  {
   "cell_type": "code",
   "execution_count": 34,
   "metadata": {},
   "outputs": [],
   "source": [
    "def stats(*args):\n",
    "    result = {}\n",
    "    summa = sum(args)\n",
    "    if args:\n",
    "        avg = summa / len(args)\n",
    "    else:\n",
    "        avg = 0\n",
    "    result[\"Общая сумма\"] = summa\n",
    "    result[\"Средняя сумма покупки\"] = avg\n",
    "    result[\"Количество покупок\"] = len(args)\n",
    "    return result"
   ]
  },
  {
   "cell_type": "code",
   "execution_count": 35,
   "metadata": {},
   "outputs": [
    {
     "data": {
      "text/plain": [
       "{'Общая сумма': 3558, 'Средняя сумма покупки': 711.6, 'Количество покупок': 5}"
      ]
     },
     "execution_count": 35,
     "metadata": {},
     "output_type": "execute_result"
    }
   ],
   "source": [
    "stats(15,100,2000,999,444)"
   ]
  }
 ],
 "metadata": {
  "kernelspec": {
   "display_name": "Python 3",
   "language": "python",
   "name": "python3"
  },
  "language_info": {
   "codemirror_mode": {
    "name": "ipython",
    "version": 3
   },
   "file_extension": ".py",
   "mimetype": "text/x-python",
   "name": "python",
   "nbconvert_exporter": "python",
   "pygments_lexer": "ipython3",
   "version": "3.11.3"
  },
  "orig_nbformat": 4,
  "vscode": {
   "interpreter": {
    "hash": "1682e5d06a6d97c1b1cf6bb4ae6cf16223e994936ddb1d53664597d7d46101fa"
   }
  }
 },
 "nbformat": 4,
 "nbformat_minor": 2
}
